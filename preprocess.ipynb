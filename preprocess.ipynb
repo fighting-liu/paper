{
 "cells": [
  {
   "cell_type": "code",
   "execution_count": 1,
   "metadata": {
    "collapsed": false
   },
   "outputs": [],
   "source": [
    "import pandas as pd\n",
    "import numpy as np\n",
    "\n",
    "\n",
    "\n",
    "Calls = pd.read_csv('./Calls.csv')\n",
    "Relationships = pd.read_csv('./RelationshipsFromSurveys.csv')\n",
    "SMS = pd.read_csv('./SMS.csv')"
   ]
  },
  {
   "cell_type": "code",
   "execution_count": 2,
   "metadata": {
    "collapsed": false
   },
   "outputs": [
    {
     "data": {
      "text/html": [
       "<div>\n",
       "<table border=\"1\" class=\"dataframe\">\n",
       "  <thead>\n",
       "    <tr style=\"text-align: right;\">\n",
       "      <th></th>\n",
       "      <th>user.id</th>\n",
       "      <th>time</th>\n",
       "      <th>incoming</th>\n",
       "      <th>dest.user.id.if.known</th>\n",
       "      <th>dest.phone.hash</th>\n",
       "    </tr>\n",
       "  </thead>\n",
       "  <tbody>\n",
       "    <tr>\n",
       "      <th>0</th>\n",
       "      <td>61</td>\n",
       "      <td>2008-01-01 15:00:25</td>\n",
       "      <td>0</td>\n",
       "      <td>1</td>\n",
       "      <td>3502965008</td>\n",
       "    </tr>\n",
       "    <tr>\n",
       "      <th>1</th>\n",
       "      <td>61</td>\n",
       "      <td>2008-01-01 15:00:25</td>\n",
       "      <td>0</td>\n",
       "      <td>61</td>\n",
       "      <td>3480933661</td>\n",
       "    </tr>\n",
       "    <tr>\n",
       "      <th>2</th>\n",
       "      <td>61</td>\n",
       "      <td>2008-01-01 15:00:25</td>\n",
       "      <td>1</td>\n",
       "      <td>1</td>\n",
       "      <td>3502965008</td>\n",
       "    </tr>\n",
       "    <tr>\n",
       "      <th>3</th>\n",
       "      <td>61</td>\n",
       "      <td>2008-01-01 15:00:25</td>\n",
       "      <td>1</td>\n",
       "      <td>NaN</td>\n",
       "      <td>177622</td>\n",
       "    </tr>\n",
       "    <tr>\n",
       "      <th>4</th>\n",
       "      <td>61</td>\n",
       "      <td>2008-01-01 15:00:25</td>\n",
       "      <td>1</td>\n",
       "      <td>61</td>\n",
       "      <td>3480933661</td>\n",
       "    </tr>\n",
       "    <tr>\n",
       "      <th>5</th>\n",
       "      <td>37</td>\n",
       "      <td>2008-01-01 17:39:50</td>\n",
       "      <td>1</td>\n",
       "      <td>NaN</td>\n",
       "      <td>1361435264</td>\n",
       "    </tr>\n",
       "    <tr>\n",
       "      <th>6</th>\n",
       "      <td>37</td>\n",
       "      <td>2008-01-01 17:39:50</td>\n",
       "      <td>0</td>\n",
       "      <td>NaN</td>\n",
       "      <td>2775336710</td>\n",
       "    </tr>\n",
       "    <tr>\n",
       "      <th>7</th>\n",
       "      <td>37</td>\n",
       "      <td>2008-01-02 23:18:10</td>\n",
       "      <td>1</td>\n",
       "      <td>37</td>\n",
       "      <td>310381472</td>\n",
       "    </tr>\n",
       "    <tr>\n",
       "      <th>8</th>\n",
       "      <td>37</td>\n",
       "      <td>2008-01-02 23:18:10</td>\n",
       "      <td>1</td>\n",
       "      <td>NaN</td>\n",
       "      <td>2775336710</td>\n",
       "    </tr>\n",
       "    <tr>\n",
       "      <th>9</th>\n",
       "      <td>37</td>\n",
       "      <td>2008-01-04 14:55:44</td>\n",
       "      <td>1</td>\n",
       "      <td>NaN</td>\n",
       "      <td>1361435264</td>\n",
       "    </tr>\n",
       "  </tbody>\n",
       "</table>\n",
       "</div>"
      ],
      "text/plain": [
       "   user.id                 time  incoming  dest.user.id.if.known  \\\n",
       "0       61  2008-01-01 15:00:25         0                      1   \n",
       "1       61  2008-01-01 15:00:25         0                     61   \n",
       "2       61  2008-01-01 15:00:25         1                      1   \n",
       "3       61  2008-01-01 15:00:25         1                    NaN   \n",
       "4       61  2008-01-01 15:00:25         1                     61   \n",
       "5       37  2008-01-01 17:39:50         1                    NaN   \n",
       "6       37  2008-01-01 17:39:50         0                    NaN   \n",
       "7       37  2008-01-02 23:18:10         1                     37   \n",
       "8       37  2008-01-02 23:18:10         1                    NaN   \n",
       "9       37  2008-01-04 14:55:44         1                    NaN   \n",
       "\n",
       "  dest.phone.hash  \n",
       "0      3502965008  \n",
       "1      3480933661  \n",
       "2      3502965008  \n",
       "3          177622  \n",
       "4      3480933661  \n",
       "5      1361435264  \n",
       "6      2775336710  \n",
       "7       310381472  \n",
       "8      2775336710  \n",
       "9      1361435264  "
      ]
     },
     "execution_count": 2,
     "metadata": {},
     "output_type": "execute_result"
    }
   ],
   "source": [
    "SMS.head(10)"
   ]
  },
  {
   "cell_type": "code",
   "execution_count": 3,
   "metadata": {
    "collapsed": false
   },
   "outputs": [
    {
     "name": "stdout",
     "output_type": "stream",
     "text": [
      "user.id                      0\n",
      "time                         0\n",
      "incoming                     0\n",
      "dest.user.id.if.known    63804\n",
      "dest.phone.hash             12\n",
      "dtype: int64\n",
      "Int64Index([    0,     1,     2,     3,     4,     5,     6,     7,     8,\n",
      "                9,\n",
      "            ...\n",
      "            76527, 76528, 76529, 76530, 76531, 76532, 76533, 76534, 76535,\n",
      "            76536],\n",
      "           dtype='int64', length=76537)\n"
     ]
    }
   ],
   "source": [
    "print(SMS.isnull().sum())\n",
    "print(SMS.index)"
   ]
  },
  {
   "cell_type": "code",
   "execution_count": 4,
   "metadata": {
    "collapsed": false
   },
   "outputs": [
    {
     "name": "stdout",
     "output_type": "stream",
     "text": [
      "user.id            0\n",
      "time               0\n",
      "incoming           0\n",
      "dest.user.id       0\n",
      "dest.phone.hash    0\n",
      "dtype: int64\n",
      "Int64Index([    0,     1,     2,     3,     4,     5,     6,     7,     8,\n",
      "                9,\n",
      "            ...\n",
      "            12723, 12724, 12725, 12726, 12727, 12728, 12729, 12730, 12731,\n",
      "            12732],\n",
      "           dtype='int64', length=12733)\n"
     ]
    }
   ],
   "source": [
    "SMS = SMS.dropna()\n",
    "SMS = SMS.reset_index(drop=True)\n",
    "SMS.columns = ['user.id', 'time', 'incoming', 'dest.user.id', 'dest.phone.hash']\n",
    "print(SMS.isnull().sum())\n",
    "print(SMS.index)\n",
    "\n",
    "# id_phone = SMS[['dest.user.id.if.known', 'dest.phone.hash']].copy()\n",
    "# id_phone = id_phone.dropna()\n",
    "# id_phone = id_phone.drop_duplicates()\n",
    "# id_phone = id_phone.sort_values(by='dest.user.id.if.known')\n",
    "# id_phone.columns = ['user.id', 'phone.hash']\n",
    "# id_phone = id_phone.reset_index(drop=True)\n",
    "# id_phone.head(10)\n",
    "\n"
   ]
  },
  {
   "cell_type": "code",
   "execution_count": 5,
   "metadata": {
    "collapsed": false
   },
   "outputs": [],
   "source": [
    "SMS.head(10)\n",
    "SMS.to_csv('./SMS_1.csv', index=False)"
   ]
  },
  {
   "cell_type": "code",
   "execution_count": 126,
   "metadata": {
    "collapsed": false
   },
   "outputs": [
    {
     "data": {
      "text/html": [
       "<div>\n",
       "<table border=\"1\" class=\"dataframe\">\n",
       "  <thead>\n",
       "    <tr style=\"text-align: right;\">\n",
       "      <th></th>\n",
       "      <th>id.A</th>\n",
       "      <th>id.B</th>\n",
       "      <th>relationship</th>\n",
       "      <th>survey.date</th>\n",
       "    </tr>\n",
       "  </thead>\n",
       "  <tbody>\n",
       "    <tr>\n",
       "      <th>0</th>\n",
       "      <td>47</td>\n",
       "      <td>2</td>\n",
       "      <td>CloseFriend</td>\n",
       "      <td>2008-09-09</td>\n",
       "    </tr>\n",
       "    <tr>\n",
       "      <th>1</th>\n",
       "      <td>2</td>\n",
       "      <td>2</td>\n",
       "      <td>CloseFriend</td>\n",
       "      <td>2008-09-09</td>\n",
       "    </tr>\n",
       "    <tr>\n",
       "      <th>2</th>\n",
       "      <td>57</td>\n",
       "      <td>2</td>\n",
       "      <td>CloseFriend</td>\n",
       "      <td>2008-09-09</td>\n",
       "    </tr>\n",
       "    <tr>\n",
       "      <th>3</th>\n",
       "      <td>73</td>\n",
       "      <td>2</td>\n",
       "      <td>SocializeTwicePerWeek</td>\n",
       "      <td>2008-09-09</td>\n",
       "    </tr>\n",
       "    <tr>\n",
       "      <th>4</th>\n",
       "      <td>55</td>\n",
       "      <td>2</td>\n",
       "      <td>SocializeTwicePerWeek</td>\n",
       "      <td>2008-09-09</td>\n",
       "    </tr>\n",
       "    <tr>\n",
       "      <th>5</th>\n",
       "      <td>47</td>\n",
       "      <td>2</td>\n",
       "      <td>SocializeTwicePerWeek</td>\n",
       "      <td>2008-09-09</td>\n",
       "    </tr>\n",
       "    <tr>\n",
       "      <th>6</th>\n",
       "      <td>51</td>\n",
       "      <td>2</td>\n",
       "      <td>SocializeTwicePerWeek</td>\n",
       "      <td>2008-09-09</td>\n",
       "    </tr>\n",
       "    <tr>\n",
       "      <th>7</th>\n",
       "      <td>52</td>\n",
       "      <td>2</td>\n",
       "      <td>SocializeTwicePerWeek</td>\n",
       "      <td>2008-09-09</td>\n",
       "    </tr>\n",
       "    <tr>\n",
       "      <th>8</th>\n",
       "      <td>40</td>\n",
       "      <td>2</td>\n",
       "      <td>SocializeTwicePerWeek</td>\n",
       "      <td>2008-09-09</td>\n",
       "    </tr>\n",
       "    <tr>\n",
       "      <th>9</th>\n",
       "      <td>66</td>\n",
       "      <td>2</td>\n",
       "      <td>SocializeTwicePerWeek</td>\n",
       "      <td>2008-09-09</td>\n",
       "    </tr>\n",
       "  </tbody>\n",
       "</table>\n",
       "</div>"
      ],
      "text/plain": [
       "   id.A  id.B           relationship survey.date\n",
       "0    47     2            CloseFriend  2008-09-09\n",
       "1     2     2            CloseFriend  2008-09-09\n",
       "2    57     2            CloseFriend  2008-09-09\n",
       "3    73     2  SocializeTwicePerWeek  2008-09-09\n",
       "4    55     2  SocializeTwicePerWeek  2008-09-09\n",
       "5    47     2  SocializeTwicePerWeek  2008-09-09\n",
       "6    51     2  SocializeTwicePerWeek  2008-09-09\n",
       "7    52     2  SocializeTwicePerWeek  2008-09-09\n",
       "8    40     2  SocializeTwicePerWeek  2008-09-09\n",
       "9    66     2  SocializeTwicePerWeek  2008-09-09"
      ]
     },
     "execution_count": 126,
     "metadata": {},
     "output_type": "execute_result"
    }
   ],
   "source": [
    "Relationships.head(10)"
   ]
  },
  {
   "cell_type": "code",
   "execution_count": 24,
   "metadata": {
    "collapsed": false
   },
   "outputs": [
    {
     "name": "stdout",
     "output_type": "stream",
     "text": [
      "id.A            0\n",
      "id.B            0\n",
      "relationship    0\n",
      "survey.date     0\n",
      "dtype: int64\n",
      "Int64Index([    0,     1,     2,     3,     4,     5,     6,     7,     8,\n",
      "                9,\n",
      "            ...\n",
      "            31908, 31909, 31910, 31911, 31912, 31913, 31914, 31915, 31916,\n",
      "            31917],\n",
      "           dtype='int64', length=31918)\n"
     ]
    }
   ],
   "source": [
    "print(Relationships.isnull().sum())\n",
    "print(Relationships.index)"
   ]
  },
  {
   "cell_type": "code",
   "execution_count": 127,
   "metadata": {
    "collapsed": true
   },
   "outputs": [],
   "source": [
    "close_friends = Relationships[Relationships['relationship'] == 'CloseFriend'].copy()"
   ]
  },
  {
   "cell_type": "code",
   "execution_count": 128,
   "metadata": {
    "collapsed": false
   },
   "outputs": [
    {
     "name": "stdout",
     "output_type": "stream",
     "text": [
      "     id.A  id.B relationship survey.date\n",
      "0      47     2  CloseFriend  2008-09-09\n",
      "1       2     2  CloseFriend  2008-09-09\n",
      "2      57     2  CloseFriend  2008-09-09\n",
      "73      9    38  CloseFriend  2008-09-09\n",
      "139    68    40  CloseFriend  2008-09-09\n",
      "140    23    40  CloseFriend  2008-09-09\n",
      "141    49    40  CloseFriend  2008-09-09\n",
      "220    70    43  CloseFriend  2008-09-09\n",
      "296    70    62  CloseFriend  2008-09-09\n",
      "297    49    62  CloseFriend  2008-09-09\n",
      "Int64Index([    0,     1,     2,    73,   139,   140,   141,   220,   296,\n",
      "              297,\n",
      "            ...\n",
      "            31791, 31825, 31826, 31827, 31828, 31829, 31830, 31831, 31873,\n",
      "            31874],\n",
      "           dtype='int64', length=2577)\n"
     ]
    }
   ],
   "source": [
    "print(close_friends.head(10))\n",
    "print(close_friends.index)"
   ]
  },
  {
   "cell_type": "code",
   "execution_count": 129,
   "metadata": {
    "collapsed": false
   },
   "outputs": [
    {
     "data": {
      "text/html": [
       "<div>\n",
       "<table border=\"1\" class=\"dataframe\">\n",
       "  <thead>\n",
       "    <tr style=\"text-align: right;\">\n",
       "      <th></th>\n",
       "      <th>user_id</th>\n",
       "      <th>time_stamp</th>\n",
       "      <th>duration</th>\n",
       "      <th>dest_user_id_if_known</th>\n",
       "      <th>dest_phone_hash</th>\n",
       "    </tr>\n",
       "  </thead>\n",
       "  <tbody>\n",
       "    <tr>\n",
       "      <th>0</th>\n",
       "      <td>19</td>\n",
       "      <td>2008-10-02 22:04:28</td>\n",
       "      <td>15</td>\n",
       "      <td>NaN</td>\n",
       "      <td>2088297235</td>\n",
       "    </tr>\n",
       "    <tr>\n",
       "      <th>1</th>\n",
       "      <td>19</td>\n",
       "      <td>2008-10-02 22:03:57</td>\n",
       "      <td>17</td>\n",
       "      <td>NaN</td>\n",
       "      <td>2088297235</td>\n",
       "    </tr>\n",
       "    <tr>\n",
       "      <th>2</th>\n",
       "      <td>19</td>\n",
       "      <td>2008-10-03 00:42:55</td>\n",
       "      <td>421</td>\n",
       "      <td>NaN</td>\n",
       "      <td>2939471263</td>\n",
       "    </tr>\n",
       "    <tr>\n",
       "      <th>3</th>\n",
       "      <td>19</td>\n",
       "      <td>2008-10-03 00:42:06</td>\n",
       "      <td>0</td>\n",
       "      <td>NaN</td>\n",
       "      <td>2088297235</td>\n",
       "    </tr>\n",
       "    <tr>\n",
       "      <th>4</th>\n",
       "      <td>19</td>\n",
       "      <td>2008-10-03 03:47:31</td>\n",
       "      <td>47</td>\n",
       "      <td>18</td>\n",
       "      <td>3620995333</td>\n",
       "    </tr>\n",
       "    <tr>\n",
       "      <th>5</th>\n",
       "      <td>19</td>\n",
       "      <td>2008-10-03 06:46:20</td>\n",
       "      <td>0</td>\n",
       "      <td>22</td>\n",
       "      <td>3839293194</td>\n",
       "    </tr>\n",
       "    <tr>\n",
       "      <th>6</th>\n",
       "      <td>19</td>\n",
       "      <td>2008-10-03 14:01:58</td>\n",
       "      <td>267</td>\n",
       "      <td>NaN</td>\n",
       "      <td>2939471263</td>\n",
       "    </tr>\n",
       "    <tr>\n",
       "      <th>7</th>\n",
       "      <td>19</td>\n",
       "      <td>2008-10-03 13:51:41</td>\n",
       "      <td>0</td>\n",
       "      <td>22</td>\n",
       "      <td>3839293194</td>\n",
       "    </tr>\n",
       "    <tr>\n",
       "      <th>8</th>\n",
       "      <td>19</td>\n",
       "      <td>2008-10-03 22:57:14</td>\n",
       "      <td>26</td>\n",
       "      <td>NaN</td>\n",
       "      <td>1473893544</td>\n",
       "    </tr>\n",
       "    <tr>\n",
       "      <th>9</th>\n",
       "      <td>19</td>\n",
       "      <td>2008-10-03 23:26:31</td>\n",
       "      <td>25</td>\n",
       "      <td>NaN</td>\n",
       "      <td>1473893544</td>\n",
       "    </tr>\n",
       "  </tbody>\n",
       "</table>\n",
       "</div>"
      ],
      "text/plain": [
       "   user_id           time_stamp  duration  dest_user_id_if_known  \\\n",
       "0       19  2008-10-02 22:04:28        15                    NaN   \n",
       "1       19  2008-10-02 22:03:57        17                    NaN   \n",
       "2       19  2008-10-03 00:42:55       421                    NaN   \n",
       "3       19  2008-10-03 00:42:06         0                    NaN   \n",
       "4       19  2008-10-03 03:47:31        47                     18   \n",
       "5       19  2008-10-03 06:46:20         0                     22   \n",
       "6       19  2008-10-03 14:01:58       267                    NaN   \n",
       "7       19  2008-10-03 13:51:41         0                     22   \n",
       "8       19  2008-10-03 22:57:14        26                    NaN   \n",
       "9       19  2008-10-03 23:26:31        25                    NaN   \n",
       "\n",
       "  dest_phone_hash  \n",
       "0      2088297235  \n",
       "1      2088297235  \n",
       "2      2939471263  \n",
       "3      2088297235  \n",
       "4      3620995333  \n",
       "5      3839293194  \n",
       "6      2939471263  \n",
       "7      3839293194  \n",
       "8      1473893544  \n",
       "9      1473893544  "
      ]
     },
     "execution_count": 129,
     "metadata": {},
     "output_type": "execute_result"
    }
   ],
   "source": [
    "Calls.head(10)"
   ]
  },
  {
   "cell_type": "code",
   "execution_count": 130,
   "metadata": {
    "collapsed": false
   },
   "outputs": [
    {
     "name": "stdout",
     "output_type": "stream",
     "text": [
      "user_id                   5403\n",
      "time_stamp                   0\n",
      "duration                     0\n",
      "dest_user_id_if_known    51933\n",
      "dest_phone_hash             27\n",
      "dtype: int64\n",
      "Int64Index([    0,     1,     2,     3,     4,     5,     6,     7,     8,\n",
      "                9,\n",
      "            ...\n",
      "            63814, 63815, 63816, 63817, 63818, 63819, 63820, 63821, 63822,\n",
      "            63823],\n",
      "           dtype='int64', length=63824)\n"
     ]
    }
   ],
   "source": [
    "# id_phone_2 = Calls[['dest_user_id_if_known', 'dest_phone_hash']].copy()\n",
    "# id_phone_2.columns = ['user.id', 'phone.hash']\n",
    "# id_phone_2 = id_phone_2.dropna()\n",
    "# id_phone_2 = id_phone_2.drop_duplicates()\n",
    "# id_phone_2 = id_phone_2.sort_values(by='user.id')\n",
    "# id_phone_2 = id_phone_2.reset_index(drop=True)\n",
    "# id_phone_2.head(10)\n",
    "\n",
    "# id_phone = id_phone.append(id_phone_2, ignore_index=True)\n",
    "# id_phone = id_phone.drop_duplicates()\n",
    "# id_phone = id_phone.sort_values(by = 'user.id')\n",
    "# id_phone = id_phone.reset_index(drop=True)\n",
    "# id_phone\n",
    "print(Calls.isnull().sum())\n",
    "\n",
    "print(Calls.index)"
   ]
  },
  {
   "cell_type": "code",
   "execution_count": 132,
   "metadata": {
    "collapsed": false
   },
   "outputs": [
    {
     "data": {
      "text/html": [
       "<div>\n",
       "<table border=\"1\" class=\"dataframe\">\n",
       "  <thead>\n",
       "    <tr style=\"text-align: right;\">\n",
       "      <th></th>\n",
       "      <th>user.id</th>\n",
       "      <th>time</th>\n",
       "      <th>duration</th>\n",
       "      <th>dest.user.id</th>\n",
       "      <th>dest.phone.hash</th>\n",
       "    </tr>\n",
       "  </thead>\n",
       "  <tbody>\n",
       "    <tr>\n",
       "      <th>0</th>\n",
       "      <td>19</td>\n",
       "      <td>2008-10-03 03:47:31</td>\n",
       "      <td>47</td>\n",
       "      <td>18</td>\n",
       "      <td>3620995333</td>\n",
       "    </tr>\n",
       "    <tr>\n",
       "      <th>1</th>\n",
       "      <td>19</td>\n",
       "      <td>2008-10-03 06:46:20</td>\n",
       "      <td>0</td>\n",
       "      <td>22</td>\n",
       "      <td>3839293194</td>\n",
       "    </tr>\n",
       "    <tr>\n",
       "      <th>2</th>\n",
       "      <td>19</td>\n",
       "      <td>2008-10-03 13:51:41</td>\n",
       "      <td>0</td>\n",
       "      <td>22</td>\n",
       "      <td>3839293194</td>\n",
       "    </tr>\n",
       "    <tr>\n",
       "      <th>3</th>\n",
       "      <td>19</td>\n",
       "      <td>2008-10-13 01:51:31</td>\n",
       "      <td>0</td>\n",
       "      <td>65</td>\n",
       "      <td>1569256956</td>\n",
       "    </tr>\n",
       "    <tr>\n",
       "      <th>4</th>\n",
       "      <td>19</td>\n",
       "      <td>2008-10-14 03:54:56</td>\n",
       "      <td>17</td>\n",
       "      <td>65</td>\n",
       "      <td>1569256956</td>\n",
       "    </tr>\n",
       "    <tr>\n",
       "      <th>5</th>\n",
       "      <td>19</td>\n",
       "      <td>2008-11-03 17:57:33</td>\n",
       "      <td>35</td>\n",
       "      <td>18</td>\n",
       "      <td>3620995333</td>\n",
       "    </tr>\n",
       "    <tr>\n",
       "      <th>6</th>\n",
       "      <td>19</td>\n",
       "      <td>2008-11-03 03:03:48</td>\n",
       "      <td>0</td>\n",
       "      <td>18</td>\n",
       "      <td>3620995333</td>\n",
       "    </tr>\n",
       "    <tr>\n",
       "      <th>7</th>\n",
       "      <td>19</td>\n",
       "      <td>2008-11-07 01:13:28</td>\n",
       "      <td>39</td>\n",
       "      <td>65</td>\n",
       "      <td>1569256956</td>\n",
       "    </tr>\n",
       "    <tr>\n",
       "      <th>8</th>\n",
       "      <td>19</td>\n",
       "      <td>2008-11-08 23:35:12</td>\n",
       "      <td>40</td>\n",
       "      <td>18</td>\n",
       "      <td>3620995333</td>\n",
       "    </tr>\n",
       "    <tr>\n",
       "      <th>9</th>\n",
       "      <td>19</td>\n",
       "      <td>2008-11-09 00:33:15</td>\n",
       "      <td>64</td>\n",
       "      <td>44</td>\n",
       "      <td>2314686049</td>\n",
       "    </tr>\n",
       "  </tbody>\n",
       "</table>\n",
       "</div>"
      ],
      "text/plain": [
       "   user.id                 time  duration  dest.user.id dest.phone.hash\n",
       "0       19  2008-10-03 03:47:31        47            18      3620995333\n",
       "1       19  2008-10-03 06:46:20         0            22      3839293194\n",
       "2       19  2008-10-03 13:51:41         0            22      3839293194\n",
       "3       19  2008-10-13 01:51:31         0            65      1569256956\n",
       "4       19  2008-10-14 03:54:56        17            65      1569256956\n",
       "5       19  2008-11-03 17:57:33        35            18      3620995333\n",
       "6       19  2008-11-03 03:03:48         0            18      3620995333\n",
       "7       19  2008-11-07 01:13:28        39            65      1569256956\n",
       "8       19  2008-11-08 23:35:12        40            18      3620995333\n",
       "9       19  2008-11-09 00:33:15        64            44      2314686049"
      ]
     },
     "execution_count": 132,
     "metadata": {},
     "output_type": "execute_result"
    }
   ],
   "source": [
    "Calls.columns = ['user.id', 'time', 'duration', 'dest.user.id', 'dest.phone.hash']\n",
    "Calls = Calls.dropna()\n",
    "Calls = Calls.reset_index(drop=True)\n",
    "Calls.head(10)\n",
    "Calls.to_csv('./Calls_1.csv', index=F)"
   ]
  },
  {
   "cell_type": "code",
   "execution_count": 133,
   "metadata": {
    "collapsed": false
   },
   "outputs": [
    {
     "name": "stdout",
     "output_type": "stream",
     "text": [
      "user.id            0\n",
      "time               0\n",
      "duration           0\n",
      "dest.user.id       0\n",
      "dest.phone.hash    0\n",
      "dtype: int64\n",
      "Int64Index([    0,     1,     2,     3,     4,     5,     6,     7,     8,\n",
      "                9,\n",
      "            ...\n",
      "            10626, 10627, 10628, 10629, 10630, 10631, 10632, 10633, 10634,\n",
      "            10635],\n",
      "           dtype='int64', length=10636)\n"
     ]
    }
   ],
   "source": [
    "print(Calls.isnull().sum())\n",
    "print(Calls.index)"
   ]
  }
 ],
 "metadata": {
  "kernelspec": {
   "display_name": "Python 3",
   "language": "python",
   "name": "python3"
  },
  "language_info": {
   "codemirror_mode": {
    "name": "ipython",
    "version": 3
   },
   "file_extension": ".py",
   "mimetype": "text/x-python",
   "name": "python",
   "nbconvert_exporter": "python",
   "pygments_lexer": "ipython3",
   "version": "3.4.0"
  }
 },
 "nbformat": 4,
 "nbformat_minor": 0
}
